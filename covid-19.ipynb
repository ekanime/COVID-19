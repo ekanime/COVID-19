{
 "cells": [
  {
   "cell_type": "code",
   "execution_count": 1,
   "metadata": {},
   "outputs": [],
   "source": [
    "import pandas as pd\n",
    "import seaborn as sns \n",
    "import matplotlib.pyplot as plt\n",
    "import numpy as np\n",
    "from datetime import date\n",
    "from pandas.plotting import register_matplotlib_converters\n",
    "from urllib.request import urlretrieve\n",
    "\n",
    "sns.set(style=\"whitegrid\")\n",
    "%matplotlib inline"
   ]
  },
  {
   "cell_type": "code",
   "execution_count": 2,
   "metadata": {},
   "outputs": [],
   "source": [
    "today = date.today()\n",
    "register_matplotlib_converters()"
   ]
  },
  {
   "cell_type": "code",
   "execution_count": 3,
   "metadata": {},
   "outputs": [],
   "source": [
    "url = 'https://www.ecdc.europa.eu/sites/default/files/documents/COVID-19-geographic-disbtribution-worldwide.xlsx'"
   ]
  },
  {
   "cell_type": "code",
   "execution_count": 4,
   "metadata": {},
   "outputs": [
    {
     "data": {
      "text/plain": [
       "('covid_19.xlsx', <http.client.HTTPMessage at 0x1a1f9b8710>)"
      ]
     },
     "execution_count": 4,
     "metadata": {},
     "output_type": "execute_result"
    }
   ],
   "source": [
    "urlretrieve(url,'covid_19.xlsx')"
   ]
  },
  {
   "cell_type": "code",
   "execution_count": 5,
   "metadata": {
    "scrolled": false
   },
   "outputs": [],
   "source": [
    "df = pd.read_excel('covid_19.xlsx',parse_dates=['dateRep'])\n",
    "df.dropna(axis=0,inplace=True)"
   ]
  },
  {
   "cell_type": "markdown",
   "metadata": {},
   "source": [
    "### Countries with the most cases"
   ]
  },
  {
   "cell_type": "code",
   "execution_count": 6,
   "metadata": {},
   "outputs": [
    {
     "data": {
      "text/plain": [
       "Text(0.5, 1.0, 'Countries with the most cases')"
      ]
     },
     "execution_count": 6,
     "metadata": {},
     "output_type": "execute_result"
    },
    {
     "data": {
      "image/png": "[encoded data removed]",
      "text/plain": [
       "<Figure size 1440x576 with 1 Axes>"
      ]
     },
     "metadata": {
      "needs_background": "light"
     },
     "output_type": "display_data"
    }
   ],
   "source": [
    "plt.figure(figsize = (20,8))\n",
    "cases_1000 = df[df['cases'] >= 5000].reset_index()\n",
    "countries_1000 = cases_1000.groupby(cases_1000['countriesAndTerritories'])['deaths','cases'].sum()\n",
    "sns.barplot(x=countries_1000.cases,y=countries_1000.index,alpha = 1,color = 'b',label = 'cases')\n",
    "sns.barplot(x=countries_1000.deaths,y=countries_1000.index, alpha = 1,color = 'r',label='deaths')\n",
    "plt.xlabel ('cases to deaths ratio')\n",
    "plt.legend()\n",
    "plt.title('Countries with the most cases')"
   ]
  },
  {
   "cell_type": "markdown",
   "metadata": {},
   "source": [
    "# Rate of infection = K × (the number of infections)/(the number of population)"
   ]
  },
  {
   "cell_type": "code",
   "execution_count": 7,
   "metadata": {},
   "outputs": [],
   "source": [
    "# World Population as of 2019\n",
    "pop = 7.75 * 1000000000"
   ]
  },
  {
   "cell_type": "code",
   "execution_count": 8,
   "metadata": {},
   "outputs": [],
   "source": [
    "df2 = df.groupby(df.dateRep)['cases','deaths'].sum()\n"
   ]
  },
  {
   "cell_type": "code",
   "execution_count": 9,
   "metadata": {},
   "outputs": [],
   "source": [
    "df2['Estimated_Population'] = pop - df2.deaths.shift().apply(lambda x : ((x+2.5)-1))\n",
    "df2['total_cases'] = df2['cases'].cumsum()\n",
    "df2['total_deaths'] = df2['deaths'].cumsum()\n",
    "df2.dropna(inplace=True)"
   ]
  },
  {
   "cell_type": "code",
   "execution_count": 10,
   "metadata": {},
   "outputs": [],
   "source": [
    "def normalise_col(data):\n",
    "    if data < 0.01:\n",
    "        return data * 1000\n",
    "    elif data < 0.1:\n",
    "        return data * 100\n",
    "    else:\n",
    "        return data * 10"
   ]
  },
  {
   "cell_type": "code",
   "execution_count": 11,
   "metadata": {},
   "outputs": [],
   "source": [
    "df2['infection_rate_%'] = ((df2['cases']/df2['Estimated_Population'])*100).apply(normalise_col)\n",
    "df2['mortality_rate_%'] = ((df2['deaths']/df2['Estimated_Population'])*100).apply(normalise_col)"
   ]
  },
  {
   "cell_type": "code",
   "execution_count": 17,
   "metadata": {},
   "outputs": [
    {
     "data": {
      "text/html": [
       "<div>\n",
       "<style scoped>\n",
       "    .dataframe tbody tr th:only-of-type {\n",
       "        vertical-align: middle;\n",
       "    }\n",
       "\n",
       "    .dataframe tbody tr th {\n",
       "        vertical-align: top;\n",
       "    }\n",
       "\n",
       "    .dataframe thead th {\n",
       "        text-align: right;\n",
       "    }\n",
       "</style>\n",
       "<table border=\"1\" class=\"dataframe\">\n",
       "  <thead>\n",
       "    <tr style=\"text-align: right;\">\n",
       "      <th></th>\n",
       "      <th>cases</th>\n",
       "      <th>deaths</th>\n",
       "      <th>Estimated_Population</th>\n",
       "      <th>total_cases</th>\n",
       "      <th>total_deaths</th>\n",
       "      <th>infection_rate_%</th>\n",
       "      <th>mortality_rate_%</th>\n",
       "    </tr>\n",
       "    <tr>\n",
       "      <th>dateRep</th>\n",
       "      <th></th>\n",
       "      <th></th>\n",
       "      <th></th>\n",
       "      <th></th>\n",
       "      <th></th>\n",
       "      <th></th>\n",
       "      <th></th>\n",
       "    </tr>\n",
       "  </thead>\n",
       "  <tbody>\n",
       "    <tr>\n",
       "      <th>2020-03-11</th>\n",
       "      <td>4355</td>\n",
       "      <td>269</td>\n",
       "      <td>7.750000e+09</td>\n",
       "      <td>117851</td>\n",
       "      <td>4285</td>\n",
       "      <td>0.056194</td>\n",
       "      <td>0.003471</td>\n",
       "    </tr>\n",
       "    <tr>\n",
       "      <th>2020-03-12</th>\n",
       "      <td>6856</td>\n",
       "      <td>326</td>\n",
       "      <td>7.750000e+09</td>\n",
       "      <td>124707</td>\n",
       "      <td>4611</td>\n",
       "      <td>0.088465</td>\n",
       "      <td>0.004206</td>\n",
       "    </tr>\n",
       "    <tr>\n",
       "      <th>2020-03-13</th>\n",
       "      <td>8333</td>\n",
       "      <td>351</td>\n",
       "      <td>7.750000e+09</td>\n",
       "      <td>133040</td>\n",
       "      <td>4962</td>\n",
       "      <td>0.107523</td>\n",
       "      <td>0.004529</td>\n",
       "    </tr>\n",
       "    <tr>\n",
       "      <th>2020-03-14</th>\n",
       "      <td>9341</td>\n",
       "      <td>438</td>\n",
       "      <td>7.750000e+09</td>\n",
       "      <td>142381</td>\n",
       "      <td>5400</td>\n",
       "      <td>0.120529</td>\n",
       "      <td>0.005652</td>\n",
       "    </tr>\n",
       "    <tr>\n",
       "      <th>2020-03-15</th>\n",
       "      <td>11481</td>\n",
       "      <td>354</td>\n",
       "      <td>7.750000e+09</td>\n",
       "      <td>153862</td>\n",
       "      <td>5754</td>\n",
       "      <td>0.148142</td>\n",
       "      <td>0.004568</td>\n",
       "    </tr>\n",
       "    <tr>\n",
       "      <th>2020-03-16</th>\n",
       "      <td>12560</td>\n",
       "      <td>745</td>\n",
       "      <td>7.750000e+09</td>\n",
       "      <td>166422</td>\n",
       "      <td>6499</td>\n",
       "      <td>0.162065</td>\n",
       "      <td>0.009613</td>\n",
       "    </tr>\n",
       "    <tr>\n",
       "      <th>2020-03-17</th>\n",
       "      <td>12632</td>\n",
       "      <td>596</td>\n",
       "      <td>7.749999e+09</td>\n",
       "      <td>179054</td>\n",
       "      <td>7095</td>\n",
       "      <td>0.162994</td>\n",
       "      <td>0.007690</td>\n",
       "    </tr>\n",
       "    <tr>\n",
       "      <th>2020-03-18</th>\n",
       "      <td>14650</td>\n",
       "      <td>789</td>\n",
       "      <td>7.749999e+09</td>\n",
       "      <td>193704</td>\n",
       "      <td>7884</td>\n",
       "      <td>0.189032</td>\n",
       "      <td>0.010181</td>\n",
       "    </tr>\n",
       "    <tr>\n",
       "      <th>2020-03-19</th>\n",
       "      <td>18226</td>\n",
       "      <td>951</td>\n",
       "      <td>7.749999e+09</td>\n",
       "      <td>211930</td>\n",
       "      <td>8835</td>\n",
       "      <td>0.235174</td>\n",
       "      <td>0.012271</td>\n",
       "    </tr>\n",
       "    <tr>\n",
       "      <th>2020-03-20</th>\n",
       "      <td>29042</td>\n",
       "      <td>1041</td>\n",
       "      <td>7.749999e+09</td>\n",
       "      <td>240972</td>\n",
       "      <td>9876</td>\n",
       "      <td>0.374736</td>\n",
       "      <td>0.013432</td>\n",
       "    </tr>\n",
       "    <tr>\n",
       "      <th>2020-03-21</th>\n",
       "      <td>28531</td>\n",
       "      <td>1366</td>\n",
       "      <td>7.749999e+09</td>\n",
       "      <td>269503</td>\n",
       "      <td>11242</td>\n",
       "      <td>0.368142</td>\n",
       "      <td>0.017626</td>\n",
       "    </tr>\n",
       "    <tr>\n",
       "      <th>2020-03-22</th>\n",
       "      <td>33990</td>\n",
       "      <td>1695</td>\n",
       "      <td>7.749999e+09</td>\n",
       "      <td>303493</td>\n",
       "      <td>12937</td>\n",
       "      <td>0.438581</td>\n",
       "      <td>0.021871</td>\n",
       "    </tr>\n",
       "    <tr>\n",
       "      <th>2020-03-23</th>\n",
       "      <td>32775</td>\n",
       "      <td>1656</td>\n",
       "      <td>7.749998e+09</td>\n",
       "      <td>336268</td>\n",
       "      <td>14593</td>\n",
       "      <td>0.422903</td>\n",
       "      <td>0.021368</td>\n",
       "    </tr>\n",
       "    <tr>\n",
       "      <th>2020-03-24</th>\n",
       "      <td>39714</td>\n",
       "      <td>1762</td>\n",
       "      <td>7.749998e+09</td>\n",
       "      <td>375982</td>\n",
       "      <td>16355</td>\n",
       "      <td>0.512439</td>\n",
       "      <td>0.022735</td>\n",
       "    </tr>\n",
       "    <tr>\n",
       "      <th>2020-03-25</th>\n",
       "      <td>38769</td>\n",
       "      <td>2198</td>\n",
       "      <td>7.749998e+09</td>\n",
       "      <td>414751</td>\n",
       "      <td>18553</td>\n",
       "      <td>0.500245</td>\n",
       "      <td>0.028361</td>\n",
       "    </tr>\n",
       "    <tr>\n",
       "      <th>2020-03-26</th>\n",
       "      <td>50940</td>\n",
       "      <td>2423</td>\n",
       "      <td>7.749998e+09</td>\n",
       "      <td>465691</td>\n",
       "      <td>20976</td>\n",
       "      <td>0.657291</td>\n",
       "      <td>0.031265</td>\n",
       "    </tr>\n",
       "    <tr>\n",
       "      <th>2020-03-27</th>\n",
       "      <td>59302</td>\n",
       "      <td>2678</td>\n",
       "      <td>7.749998e+09</td>\n",
       "      <td>524993</td>\n",
       "      <td>23654</td>\n",
       "      <td>0.765187</td>\n",
       "      <td>0.034555</td>\n",
       "    </tr>\n",
       "    <tr>\n",
       "      <th>2020-03-28</th>\n",
       "      <td>63706</td>\n",
       "      <td>3318</td>\n",
       "      <td>7.749997e+09</td>\n",
       "      <td>588699</td>\n",
       "      <td>26972</td>\n",
       "      <td>0.822013</td>\n",
       "      <td>0.042813</td>\n",
       "    </tr>\n",
       "    <tr>\n",
       "      <th>2020-03-29</th>\n",
       "      <td>64794</td>\n",
       "      <td>3459</td>\n",
       "      <td>7.749997e+09</td>\n",
       "      <td>653493</td>\n",
       "      <td>30431</td>\n",
       "      <td>0.836052</td>\n",
       "      <td>0.044632</td>\n",
       "    </tr>\n",
       "    <tr>\n",
       "      <th>2020-03-30</th>\n",
       "      <td>58315</td>\n",
       "      <td>3120</td>\n",
       "      <td>7.749997e+09</td>\n",
       "      <td>711808</td>\n",
       "      <td>33551</td>\n",
       "      <td>0.752452</td>\n",
       "      <td>0.040258</td>\n",
       "    </tr>\n",
       "    <tr>\n",
       "      <th>2020-03-31</th>\n",
       "      <td>61602</td>\n",
       "      <td>3690</td>\n",
       "      <td>7.749997e+09</td>\n",
       "      <td>773410</td>\n",
       "      <td>37241</td>\n",
       "      <td>0.794865</td>\n",
       "      <td>0.047613</td>\n",
       "    </tr>\n",
       "    <tr>\n",
       "      <th>2020-04-01</th>\n",
       "      <td>73899</td>\n",
       "      <td>4610</td>\n",
       "      <td>7.749996e+09</td>\n",
       "      <td>847309</td>\n",
       "      <td>41851</td>\n",
       "      <td>0.953536</td>\n",
       "      <td>0.059484</td>\n",
       "    </tr>\n",
       "    <tr>\n",
       "      <th>2020-04-02</th>\n",
       "      <td>76861</td>\n",
       "      <td>4987</td>\n",
       "      <td>7.749995e+09</td>\n",
       "      <td>924170</td>\n",
       "      <td>46838</td>\n",
       "      <td>0.991755</td>\n",
       "      <td>0.064348</td>\n",
       "    </tr>\n",
       "    <tr>\n",
       "      <th>2020-04-03</th>\n",
       "      <td>77173</td>\n",
       "      <td>4683</td>\n",
       "      <td>7.749995e+09</td>\n",
       "      <td>1001343</td>\n",
       "      <td>51521</td>\n",
       "      <td>0.995781</td>\n",
       "      <td>0.060426</td>\n",
       "    </tr>\n",
       "    <tr>\n",
       "      <th>2020-04-04</th>\n",
       "      <td>81380</td>\n",
       "      <td>6577</td>\n",
       "      <td>7.749995e+09</td>\n",
       "      <td>1082723</td>\n",
       "      <td>58098</td>\n",
       "      <td>1.050065</td>\n",
       "      <td>0.084865</td>\n",
       "    </tr>\n",
       "    <tr>\n",
       "      <th>2020-04-05</th>\n",
       "      <td>86424</td>\n",
       "      <td>6109</td>\n",
       "      <td>7.749993e+09</td>\n",
       "      <td>1169147</td>\n",
       "      <td>64207</td>\n",
       "      <td>1.115149</td>\n",
       "      <td>0.078826</td>\n",
       "    </tr>\n",
       "    <tr>\n",
       "      <th>2020-04-06</th>\n",
       "      <td>71114</td>\n",
       "      <td>4647</td>\n",
       "      <td>7.749994e+09</td>\n",
       "      <td>1240261</td>\n",
       "      <td>68854</td>\n",
       "      <td>0.917601</td>\n",
       "      <td>0.059961</td>\n",
       "    </tr>\n",
       "    <tr>\n",
       "      <th>2020-04-07</th>\n",
       "      <td>71154</td>\n",
       "      <td>5126</td>\n",
       "      <td>7.749995e+09</td>\n",
       "      <td>1311415</td>\n",
       "      <td>73980</td>\n",
       "      <td>0.918117</td>\n",
       "      <td>0.066142</td>\n",
       "    </tr>\n",
       "    <tr>\n",
       "      <th>2020-04-08</th>\n",
       "      <td>74704</td>\n",
       "      <td>7402</td>\n",
       "      <td>7.749995e+09</td>\n",
       "      <td>1386119</td>\n",
       "      <td>81382</td>\n",
       "      <td>0.963923</td>\n",
       "      <td>0.095510</td>\n",
       "    </tr>\n",
       "    <tr>\n",
       "      <th>2020-04-09</th>\n",
       "      <td>84633</td>\n",
       "      <td>6328</td>\n",
       "      <td>7.749993e+09</td>\n",
       "      <td>1470752</td>\n",
       "      <td>87710</td>\n",
       "      <td>1.092040</td>\n",
       "      <td>0.081652</td>\n",
       "    </tr>\n",
       "  </tbody>\n",
       "</table>\n",
       "</div>"
      ],
      "text/plain": [
       "            cases  deaths  Estimated_Population  total_cases  total_deaths  \\\n",
       "dateRep                                                                      \n",
       "2020-03-11   4355     269          7.750000e+09       117851          4285   \n",
       "2020-03-12   6856     326          7.750000e+09       124707          4611   \n",
       "2020-03-13   8333     351          7.750000e+09       133040          4962   \n",
       "2020-03-14   9341     438          7.750000e+09       142381          5400   \n",
       "2020-03-15  11481     354          7.750000e+09       153862          5754   \n",
       "2020-03-16  12560     745          7.750000e+09       166422          6499   \n",
       "2020-03-17  12632     596          7.749999e+09       179054          7095   \n",
       "2020-03-18  14650     789          7.749999e+09       193704          7884   \n",
       "2020-03-19  18226     951          7.749999e+09       211930          8835   \n",
       "2020-03-20  29042    1041          7.749999e+09       240972          9876   \n",
       "2020-03-21  28531    1366          7.749999e+09       269503         11242   \n",
       "2020-03-22  33990    1695          7.749999e+09       303493         12937   \n",
       "2020-03-23  32775    1656          7.749998e+09       336268         14593   \n",
       "2020-03-24  39714    1762          7.749998e+09       375982         16355   \n",
       "2020-03-25  38769    2198          7.749998e+09       414751         18553   \n",
       "2020-03-26  50940    2423          7.749998e+09       465691         20976   \n",
       "2020-03-27  59302    2678          7.749998e+09       524993         23654   \n",
       "2020-03-28  63706    3318          7.749997e+09       588699         26972   \n",
       "2020-03-29  64794    3459          7.749997e+09       653493         30431   \n",
       "2020-03-30  58315    3120          7.749997e+09       711808         33551   \n",
       "2020-03-31  61602    3690          7.749997e+09       773410         37241   \n",
       "2020-04-01  73899    4610          7.749996e+09       847309         41851   \n",
       "2020-04-02  76861    4987          7.749995e+09       924170         46838   \n",
       "2020-04-03  77173    4683          7.749995e+09      1001343         51521   \n",
       "2020-04-04  81380    6577          7.749995e+09      1082723         58098   \n",
       "2020-04-05  86424    6109          7.749993e+09      1169147         64207   \n",
       "2020-04-06  71114    4647          7.749994e+09      1240261         68854   \n",
       "2020-04-07  71154    5126          7.749995e+09      1311415         73980   \n",
       "2020-04-08  74704    7402          7.749995e+09      1386119         81382   \n",
       "2020-04-09  84633    6328          7.749993e+09      1470752         87710   \n",
       "\n",
       "            infection_rate_%  mortality_rate_%  \n",
       "dateRep                                         \n",
       "2020-03-11          0.056194          0.003471  \n",
       "2020-03-12          0.088465          0.004206  \n",
       "2020-03-13          0.107523          0.004529  \n",
       "2020-03-14          0.120529          0.005652  \n",
       "2020-03-15          0.148142          0.004568  \n",
       "2020-03-16          0.162065          0.009613  \n",
       "2020-03-17          0.162994          0.007690  \n",
       "2020-03-18          0.189032          0.010181  \n",
       "2020-03-19          0.235174          0.012271  \n",
       "2020-03-20          0.374736          0.013432  \n",
       "2020-03-21          0.368142          0.017626  \n",
       "2020-03-22          0.438581          0.021871  \n",
       "2020-03-23          0.422903          0.021368  \n",
       "2020-03-24          0.512439          0.022735  \n",
       "2020-03-25          0.500245          0.028361  \n",
       "2020-03-26          0.657291          0.031265  \n",
       "2020-03-27          0.765187          0.034555  \n",
       "2020-03-28          0.822013          0.042813  \n",
       "2020-03-29          0.836052          0.044632  \n",
       "2020-03-30          0.752452          0.040258  \n",
       "2020-03-31          0.794865          0.047613  \n",
       "2020-04-01          0.953536          0.059484  \n",
       "2020-04-02          0.991755          0.064348  \n",
       "2020-04-03          0.995781          0.060426  \n",
       "2020-04-04          1.050065          0.084865  \n",
       "2020-04-05          1.115149          0.078826  \n",
       "2020-04-06          0.917601          0.059961  \n",
       "2020-04-07          0.918117          0.066142  \n",
       "2020-04-08          0.963923          0.095510  \n",
       "2020-04-09          1.092040          0.081652  "
      ]
     },
     "execution_count": 17,
     "metadata": {},
     "output_type": "execute_result"
    }
   ],
   "source": [
    "df2.tail(30)"
   ]
  },
  {
   "cell_type": "code",
   "execution_count": 13,
   "metadata": {},
   "outputs": [
    {
     "data": {
      "text/plain": [
       "<matplotlib.legend.Legend at 0x1a212dbdd8>"
      ]
     },
     "execution_count": 13,
     "metadata": {},
     "output_type": "execute_result"
    },
    {
     "data": {
      "image/png": "[encoded data removed]",
      "text/plain": [
       "<Figure size 1296x576 with 1 Axes>"
      ]
     },
     "metadata": {
      "needs_background": "light"
     },
     "output_type": "display_data"
    }
   ],
   "source": [
    "plt.figure(figsize=(18,8))\n",
    "sns.lineplot(x = df2.index, y = df2['cases'])\n",
    "sns.lineplot(x = df2.index, y = df2['deaths'])\n",
    "plt.legend(['infection rate','mortality rate'])"
   ]
  },
  {
   "cell_type": "code",
   "execution_count": 14,
   "metadata": {},
   "outputs": [
    {
     "data": {
      "text/plain": [
       "<matplotlib.legend.Legend at 0x11c77fbe0>"
      ]
     },
     "execution_count": 14,
     "metadata": {},
     "output_type": "execute_result"
    },
    {
     "data": {
      "image/png": "[encoded data removed]",
      "text/plain": [
       "<Figure size 720x576 with 1 Axes>"
      ]
     },
     "metadata": {
      "needs_background": "light"
     },
     "output_type": "display_data"
    }
   ],
   "source": [
    "country = df[df.countriesAndTerritories == 'United_States_of_America']\n",
    "country = country.groupby(country.dateRep)['cases','deaths'].sum()\n",
    "country['total_cases'] = country.cases.cumsum()\n",
    "country['total_deaths'] = country.deaths.cumsum()\n",
    "country['pop'] = pop - country.deaths.shift()\n",
    "country.dropna(inplace=True)\n",
    "country['pop'] = country['pop'].apply(lambda x : ((x+2.5)-1))\n",
    "country['infection_rate_%'] = ((country['total_cases']/country['pop'])*100)\n",
    "country['mortality_rate_%'] = ((country['total_deaths']/country['pop'])*100)\n",
    "plt.figure(figsize=(10,8))\n",
    "sns.lineplot(x = country.index, y= country['cases'])\n",
    "sns.lineplot(x = country.index, y= country['deaths'])\n",
    "plt.ylabel('Infection/death')\n",
    "plt.legend(['Infections','Deaths'])"
   ]
  },
  {
   "cell_type": "markdown",
   "metadata": {},
   "source": [
    "### World Population Trend (Approximation)"
   ]
  },
  {
   "cell_type": "code",
   "execution_count": 15,
   "metadata": {},
   "outputs": [
    {
     "data": {
      "text/plain": [
       "Text(0.5, 1.0, 'Drop in population (approx)')"
      ]
     },
     "execution_count": 15,
     "metadata": {},
     "output_type": "execute_result"
    },
    {
     "data": {
      "image/png": "[encoded data removed]",
      "text/plain": [
       "<Figure size 1296x576 with 1 Axes>"
      ]
     },
     "metadata": {
      "needs_background": "light"
     },
     "output_type": "display_data"
    }
   ],
   "source": [
    "plt.figure(figsize=(18,8))\n",
    "sns.lineplot(x = df2.index, y = df2['Estimated_Population'])\n",
    "plt.title('Drop in population (approx)')"
   ]
  },
  {
   "cell_type": "code",
   "execution_count": 16,
   "metadata": {},
   "outputs": [
    {
     "name": "stdout",
     "output_type": "stream",
     "text": [
      "worldwide\n",
      "2020-04-09\n",
      "There are 1470752 cases and 87710 deaths as of today \n",
      "There are 84633 new cases today and 6328 deaths were recorded today as well \n",
      "God Save us all\n"
     ]
    }
   ],
   "source": [
    "print(url[-14:-5])\n",
    "print(today)\n",
    "print('There are {0} cases and {1} deaths as of today \\nThere are {2} new cases today and {3} deaths were recorded today as well \\nGod Save us all'\n",
    "      .format(df2.total_cases[-1], df2.total_deaths[-1], df2.cases[-1], df2.deaths[-1]))"
   ]
  }
 ],
 "metadata": {
  "kernelspec": {
   "display_name": "Python 3",
   "language": "python",
   "name": "python3"
  },
  "language_info": {
   "codemirror_mode": {
    "name": "ipython",
    "version": 3
   },
   "file_extension": ".py",
   "mimetype": "text/x-python",
   "name": "python",
   "nbconvert_exporter": "python",
   "pygments_lexer": "ipython3",
   "version": "3.7.3"
  }
 },
 "nbformat": 4,
 "nbformat_minor": 2
}
